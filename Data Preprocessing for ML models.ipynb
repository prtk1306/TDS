{
 "cells": [
  {
   "cell_type": "code",
   "execution_count": 1,
   "metadata": {},
   "outputs": [],
   "source": [
    "#Importing libraries\n",
    "import pandas as pd\n",
    "import numpy as np\n",
    "import matplotlib.pyplot as plt"
   ]
  },
  {
   "cell_type": "code",
   "execution_count": 2,
   "metadata": {},
   "outputs": [
    {
     "data": {
      "text/html": [
       "<div>\n",
       "<style scoped>\n",
       "    .dataframe tbody tr th:only-of-type {\n",
       "        vertical-align: middle;\n",
       "    }\n",
       "\n",
       "    .dataframe tbody tr th {\n",
       "        vertical-align: top;\n",
       "    }\n",
       "\n",
       "    .dataframe thead th {\n",
       "        text-align: right;\n",
       "    }\n",
       "</style>\n",
       "<table border=\"1\" class=\"dataframe\">\n",
       "  <thead>\n",
       "    <tr style=\"text-align: right;\">\n",
       "      <th></th>\n",
       "      <th>Employee</th>\n",
       "      <th>Age</th>\n",
       "      <th>Salary</th>\n",
       "      <th>Purchased</th>\n",
       "    </tr>\n",
       "  </thead>\n",
       "  <tbody>\n",
       "    <tr>\n",
       "      <th>0</th>\n",
       "      <td>Anjali</td>\n",
       "      <td>45.0</td>\n",
       "      <td>71000.0</td>\n",
       "      <td>No</td>\n",
       "    </tr>\n",
       "    <tr>\n",
       "      <th>1</th>\n",
       "      <td>Parul</td>\n",
       "      <td>28.0</td>\n",
       "      <td>48000.0</td>\n",
       "      <td>Yes</td>\n",
       "    </tr>\n",
       "    <tr>\n",
       "      <th>2</th>\n",
       "      <td>Kanisha</td>\n",
       "      <td>31.0</td>\n",
       "      <td>53000.0</td>\n",
       "      <td>No</td>\n",
       "    </tr>\n",
       "    <tr>\n",
       "      <th>3</th>\n",
       "      <td>Parul</td>\n",
       "      <td>35.0</td>\n",
       "      <td>61000.0</td>\n",
       "      <td>No</td>\n",
       "    </tr>\n",
       "    <tr>\n",
       "      <th>4</th>\n",
       "      <td>Kanisha</td>\n",
       "      <td>42.0</td>\n",
       "      <td>NaN</td>\n",
       "      <td>Yes</td>\n",
       "    </tr>\n",
       "    <tr>\n",
       "      <th>5</th>\n",
       "      <td>Anjali</td>\n",
       "      <td>35.0</td>\n",
       "      <td>59000.0</td>\n",
       "      <td>Yes</td>\n",
       "    </tr>\n",
       "    <tr>\n",
       "      <th>6</th>\n",
       "      <td>Parul</td>\n",
       "      <td>NaN</td>\n",
       "      <td>53000.0</td>\n",
       "      <td>No</td>\n",
       "    </tr>\n",
       "    <tr>\n",
       "      <th>7</th>\n",
       "      <td>Anjali</td>\n",
       "      <td>47.0</td>\n",
       "      <td>80000.0</td>\n",
       "      <td>Yes</td>\n",
       "    </tr>\n",
       "    <tr>\n",
       "      <th>8</th>\n",
       "      <td>Kanisha</td>\n",
       "      <td>51.0</td>\n",
       "      <td>81000.0</td>\n",
       "      <td>No</td>\n",
       "    </tr>\n",
       "    <tr>\n",
       "      <th>9</th>\n",
       "      <td>Anjali</td>\n",
       "      <td>36.0</td>\n",
       "      <td>68000.0</td>\n",
       "      <td>Yes</td>\n",
       "    </tr>\n",
       "  </tbody>\n",
       "</table>\n",
       "</div>"
      ],
      "text/plain": [
       "  Employee   Age   Salary Purchased\n",
       "0   Anjali  45.0  71000.0        No\n",
       "1    Parul  28.0  48000.0       Yes\n",
       "2  Kanisha  31.0  53000.0        No\n",
       "3    Parul  35.0  61000.0        No\n",
       "4  Kanisha  42.0      NaN       Yes\n",
       "5   Anjali  35.0  59000.0       Yes\n",
       "6    Parul   NaN  53000.0        No\n",
       "7   Anjali  47.0  80000.0       Yes\n",
       "8  Kanisha  51.0  81000.0        No\n",
       "9   Anjali  36.0  68000.0       Yes"
      ]
     },
     "execution_count": 2,
     "metadata": {},
     "output_type": "execute_result"
    }
   ],
   "source": [
    "#Importing dataset\n",
    "df = pd.read_csv(\"data.csv\", sep=' ')\n",
    "df"
   ]
  },
  {
   "cell_type": "code",
   "execution_count": 3,
   "metadata": {},
   "outputs": [],
   "source": [
    "X = df.iloc[:,[0,1,2]].values\n",
    "y = df.iloc[:,3].values"
   ]
  },
  {
   "cell_type": "code",
   "execution_count": 4,
   "metadata": {},
   "outputs": [
    {
     "data": {
      "text/plain": [
       "array([['Anjali', 45.0, 71000.0],\n",
       "       ['Parul', 28.0, 48000.0],\n",
       "       ['Kanisha', 31.0, 53000.0],\n",
       "       ['Parul', 35.0, 61000.0],\n",
       "       ['Kanisha', 42.0, nan],\n",
       "       ['Anjali', 35.0, 59000.0],\n",
       "       ['Parul', nan, 53000.0],\n",
       "       ['Anjali', 47.0, 80000.0],\n",
       "       ['Kanisha', 51.0, 81000.0],\n",
       "       ['Anjali', 36.0, 68000.0]], dtype=object)"
      ]
     },
     "execution_count": 4,
     "metadata": {},
     "output_type": "execute_result"
    }
   ],
   "source": [
    "X"
   ]
  },
  {
   "cell_type": "code",
   "execution_count": 5,
   "metadata": {},
   "outputs": [
    {
     "data": {
      "text/plain": [
       "array(['No', 'Yes', 'No', 'No', 'Yes', 'Yes', 'No', 'Yes', 'No', 'Yes'],\n",
       "      dtype=object)"
      ]
     },
     "execution_count": 5,
     "metadata": {},
     "output_type": "execute_result"
    }
   ],
   "source": [
    "y"
   ]
  },
  {
   "cell_type": "code",
   "execution_count": 6,
   "metadata": {},
   "outputs": [
    {
     "data": {
      "text/plain": [
       "array([['Anjali', 45.0, 71000.0],\n",
       "       ['Parul', 28.0, 48000.0],\n",
       "       ['Kanisha', 31.0, 53000.0],\n",
       "       ['Parul', 35.0, 61000.0],\n",
       "       ['Kanisha', 42.0, 63777.77777777778],\n",
       "       ['Anjali', 35.0, 59000.0],\n",
       "       ['Parul', 38.888888888888886, 53000.0],\n",
       "       ['Anjali', 47.0, 80000.0],\n",
       "       ['Kanisha', 51.0, 81000.0],\n",
       "       ['Anjali', 36.0, 68000.0]], dtype=object)"
      ]
     },
     "execution_count": 6,
     "metadata": {},
     "output_type": "execute_result"
    }
   ],
   "source": [
    "#Handling missing values\n",
    "from sklearn.impute import SimpleImputer\n",
    "imputer = SimpleImputer(missing_values=np.nan,strategy=\"mean\")\n",
    "imputer.fit(X[:,1:3])\n",
    "X[:,1:3] = imputer.transform(X[:,1:3])\n",
    "X"
   ]
  },
  {
   "cell_type": "code",
   "execution_count": 7,
   "metadata": {},
   "outputs": [
    {
     "data": {
      "text/plain": [
       "array([[1.0, 0.0, 0.0, 45.0, 71000.0],\n",
       "       [0.0, 0.0, 1.0, 28.0, 48000.0],\n",
       "       [0.0, 1.0, 0.0, 31.0, 53000.0],\n",
       "       [0.0, 0.0, 1.0, 35.0, 61000.0],\n",
       "       [0.0, 1.0, 0.0, 42.0, 63777.77777777778],\n",
       "       [1.0, 0.0, 0.0, 35.0, 59000.0],\n",
       "       [0.0, 0.0, 1.0, 38.888888888888886, 53000.0],\n",
       "       [1.0, 0.0, 0.0, 47.0, 80000.0],\n",
       "       [0.0, 1.0, 0.0, 51.0, 81000.0],\n",
       "       [1.0, 0.0, 0.0, 36.0, 68000.0]], dtype=object)"
      ]
     },
     "execution_count": 7,
     "metadata": {},
     "output_type": "execute_result"
    }
   ],
   "source": [
    "#encoding the independent variables\n",
    "from sklearn.compose import ColumnTransformer\n",
    "from sklearn.preprocessing import OneHotEncoder\n",
    "\n",
    "ct = ColumnTransformer(transformers=[('endoer', OneHotEncoder(), [0])], remainder='passthrough')\n",
    "X = ct.fit_transform(X)\n",
    "X = np.array(X)\n",
    "X"
   ]
  },
  {
   "cell_type": "code",
   "execution_count": 8,
   "metadata": {},
   "outputs": [
    {
     "data": {
      "text/plain": [
       "array([0, 1, 0, 0, 1, 1, 0, 1, 0, 1])"
      ]
     },
     "execution_count": 8,
     "metadata": {},
     "output_type": "execute_result"
    }
   ],
   "source": [
    "#encoding the dependent variables\n",
    "from sklearn.preprocessing import LabelEncoder\n",
    "le = LabelEncoder()\n",
    "y = le.fit_transform(y)\n",
    "y"
   ]
  },
  {
   "cell_type": "code",
   "execution_count": 9,
   "metadata": {},
   "outputs": [
    {
     "name": "stdout",
     "output_type": "stream",
     "text": [
      "X_train.shape:  (8, 5)\n",
      "X_test.shape:   (2, 5)\n",
      "y_train.shape:  (8,)\n",
      "y_test.shape:   (2,)\n"
     ]
    }
   ],
   "source": [
    "#split data into train and test dataset\n",
    "from sklearn.model_selection import train_test_split  #(for python2)\n",
    "#from sklearn.model_selection import train_test_split  (for python3)\n",
    "X_train, X_test, y_train, y_test = train_test_split(X,y, test_size=0.2, random_state=0)\n",
    "print('X_train.shape: ', X_train.shape)\n",
    "print('X_test.shape:  ', X_test.shape)\n",
    "print('y_train.shape: ', y_train.shape)\n",
    "print('y_test.shape:  ', y_test.shape)"
   ]
  },
  {
   "cell_type": "code",
   "execution_count": 10,
   "metadata": {},
   "outputs": [],
   "source": [
    "#feature scaling of training dataset\n",
    "from sklearn.preprocessing import StandardScaler\n",
    "sc_X = StandardScaler()\n",
    "X_train = sc_X.fit_transform(X_train)\n",
    "X_test = sc_X.transform(X_test)"
   ]
  },
  {
   "cell_type": "code",
   "execution_count": 11,
   "metadata": {},
   "outputs": [
    {
     "data": {
      "text/plain": [
       "array([[-1.        ,  2.64575131, -0.77459667,  0.62900131,  0.08470159],\n",
       "       [ 1.        , -0.37796447, -0.77459667, -0.40813062,  0.52865477],\n",
       "       [-1.        , -0.37796447,  1.29099445, -1.7909732 , -1.57428135],\n",
       "       [-1.        , -0.37796447,  1.29099445,  0.0912292 , -1.04854732],\n",
       "       [ 1.        , -0.37796447, -0.77459667,  1.49327793,  1.79041645],\n",
       "       [-1.        , -0.37796447,  1.29099445, -0.58098595, -0.20737287],\n",
       "       [ 1.        , -0.37796447, -0.77459667,  1.14756728,  0.84409519],\n",
       "       [ 1.        , -0.37796447, -0.77459667, -0.58098595, -0.41766648]])"
      ]
     },
     "execution_count": 11,
     "metadata": {},
     "output_type": "execute_result"
    }
   ],
   "source": [
    "X_train"
   ]
  },
  {
   "cell_type": "code",
   "execution_count": 12,
   "metadata": {},
   "outputs": [
    {
     "data": {
      "text/plain": [
       "array([[-1.        ,  2.64575131, -0.77459667, -1.27240724, -1.04854732],\n",
       "       [-1.        ,  2.64575131, -0.77459667,  2.18469922,  1.89556325]])"
      ]
     },
     "execution_count": 12,
     "metadata": {},
     "output_type": "execute_result"
    }
   ],
   "source": [
    "X_test"
   ]
  }
 ],
 "metadata": {
  "kernelspec": {
   "display_name": "TensorFlow-GPU-1.13",
   "language": "python",
   "name": "tf-gpu"
  },
  "language_info": {
   "codemirror_mode": {
    "name": "ipython",
    "version": 3
   },
   "file_extension": ".py",
   "mimetype": "text/x-python",
   "name": "python",
   "nbconvert_exporter": "python",
   "pygments_lexer": "ipython3",
   "version": "3.7.7"
  }
 },
 "nbformat": 4,
 "nbformat_minor": 2
}
